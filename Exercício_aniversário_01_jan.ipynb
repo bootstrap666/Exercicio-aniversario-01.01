{
  "nbformat": 4,
  "nbformat_minor": 0,
  "metadata": {
    "colab": {
      "name": "Exercício aniversário 01 jan.ipynb",
      "provenance": [],
      "collapsed_sections": [],
      "authorship_tag": "ABX9TyM4uJ0j5kq4JDKCh3LPQKnN",
      "include_colab_link": true
    },
    "kernelspec": {
      "name": "python3",
      "display_name": "Python 3"
    },
    "language_info": {
      "name": "python"
    }
  },
  "cells": [
    {
      "cell_type": "markdown",
      "metadata": {
        "id": "view-in-github",
        "colab_type": "text"
      },
      "source": [
        "<a href=\"https://colab.research.google.com/github/bootstrap666/Exercicio-aniversario-01.01/blob/main/Exerc%C3%ADcio_anivers%C3%A1rio_01_jan.ipynb\" target=\"_parent\"><img src=\"https://colab.research.google.com/assets/colab-badge.svg\" alt=\"Open In Colab\"/></a>"
      ]
    },
    {
      "cell_type": "markdown",
      "source": [
        "# Exercício\n",
        "Considere uma sala de aula com N=23 alunos cujos aniversários são estatisticamente independentes. Considere também que a probabilidade de um aluno nascer em qualquer dia do ano é a mesma. Determine a probabilidade de ao menos dois alunos fazerem aniversário dia 01/01."
      ],
      "metadata": {
        "id": "u8hglsNJ0k42"
      }
    },
    {
      "cell_type": "markdown",
      "source": [
        "## Espaço amostral\n",
        "Cada elemento do espaço amostral é um vetor binário 23-dimensional. Um bit zero na i-ésima posição do vetor indica que o i-ésimo aluno não faz aniversário no dia 01/01 e um bit 1 indica que o i-ésimo aluno faz aniversário no dia 01/01.\n",
        "\n",
        "$$\\mathbb{S} = \\{ \\gamma_0, \\gamma_1, \\ldots, \\gamma_{2^{23}-1} \\}$$\n",
        "sendo que \n",
        "$$\\gamma_k = \\text{representação binária de $k$ com 23 bits}$$.\n",
        "\n",
        "Por exemplo, $$\\gamma_0 = 00000000000000000000000$$$$\\gamma_1 = 00000000000000000000001$$$$\\gamma_2 = 00000000000000000000010$$$$\\gamma_{2^{23}-1} = 11111111111111111111111$$"
      ],
      "metadata": {
        "id": "Anhf5l3d1YBI"
      }
    },
    {
      "cell_type": "markdown",
      "source": [
        "##Espaço de eventos\n",
        "Iremos utilizar um espaço de eventos mutuamente exclusivos \n",
        "$$\\mathcal{X}_0,\\mathcal{X}_1,\\mathcal{X}_2, \\ldots , \\mathcal{X}_{23}$$\n",
        "em que $\\mathcal{X}_i$ indica o evento: \"i indivíduos tem aniversário dia 01/01 e N-i indivíduos não tem aniversário dia 01/01\".\n",
        "\n",
        "- Os eventos são mutuamente exclusivos pois não é possível a ocorrência de $\\mathcal{X}_i$ e $\\mathcal{X}_j$ para $i \\neq j$;\n",
        "- O número de resultados favoráveis ao evento $\\mathcal{X}_i$ é de \n",
        "$$\\frac{N!}{k!(N-k)!}$$\n",
        "ou seja, o número de combinações de $N$ elementos em grupos de $k$ ignorando sua ordem."
      ],
      "metadata": {
        "id": "dk-YZ-He2ACb"
      }
    },
    {
      "cell_type": "markdown",
      "source": [
        "##Medida de probabilidade\n",
        "Para cada resultado do espaço amostral, sejam\n",
        "$$p = \\frac{1}{365}$$\n",
        "e \n",
        "$$q = 1 - \\frac{1}{365} = \\frac{364}{365}$$\n",
        "as probabilidades de um aluno ter aniversário dia 01/01 e não ter aniversário dia 01/01 respectivamente, a probabilidade de ocorrência de cada resultado é \n",
        "$$Pr\\{\\gamma_k\\} = p^{N1(k)} q^{N0(k)}$$\n",
        "em que $N_1(k)$ indica o número de bits 1 na representação binária de k com 23 bits e $N_0(k)$ indica o número de bits 0 na representação binária de k com 23 bits. \n",
        "\n",
        "Oserva-se que todos os resultados favoráveis ao evento $\\mathcal{X}_i$ tem o mesmo número de bits 1 (i) e o mesmo número de bits zero (N-i). Assim, a probabilidade de ocorrência do evento\n",
        "$$Pr\\{ \\mathcal{X}_i \\} = p^{i} q^{N-i} \\frac{N!}{k!(N-k)!} $$\n",
        "\n",
        "###Para finalmente resolver o exercício\n",
        "Assim, a probabilidade de pelo menos dois alunos fazerem aniversário dia 01/01 pode ser determinada por\n",
        "$$Pr\\{\\mathcal{X}_2 \\cup \\mathcal{X}_3 \\cup \\mathcal{X}_3 \\cup \\cdots \\cup \\mathcal{X}_{23}\\} = Pr\\{\\mathcal{X}_2\\} + Pr\\{\\mathcal{X}_3\\} + Pr\\{\\mathcal{X}_3 \\} + \\cdots + Pr\\{ \\mathcal{X}_{23}\\}$$\n",
        "\n",
        "Alternativamente, observando que o evento complementar a pelo menos dois alunos fazerem aniversário é \"menos de dois alunos fazem aniversário dia 01/01\", pode-se encontrar essa probabilidade facilmente por\n",
        "\n",
        "$$Pr\\{\\mathcal{X}_2 \\cup \\mathcal{X}_3 \\cup \\mathcal{X}_3 \\cup \\cdots \\cup \\mathcal{X}_{23}\\} =  1 - Pr\\{\\mathcal{X}_0 \\cup \\mathcal{X}_1\\} = 1 - Pr\\{\\mathcal{X}_0\\} + Pr\\{\\mathcal{X}_1\\}$$\n"
      ],
      "metadata": {
        "id": "Y1ds1FGY4NBh"
      }
    },
    {
      "cell_type": "code",
      "execution_count": null,
      "metadata": {
        "id": "8iC4WN3Asb7m"
      },
      "outputs": [],
      "source": [
        "import numpy as np\n",
        "from scipy import special \n",
        "from matplotlib import pyplot as plt"
      ]
    },
    {
      "cell_type": "code",
      "source": [
        "year_days = 365\n",
        "N = 23\n",
        "p = 1.0/year_days\n",
        "q = 1 - p"
      ],
      "metadata": {
        "id": "zfclgVydsfGn"
      },
      "execution_count": null,
      "outputs": []
    },
    {
      "cell_type": "code",
      "source": [
        "def prob_anniversaries (k:int, N:int, p:float, q:float):\n",
        "  return (p**k)*(q**(N-k))*special.comb(N,k)"
      ],
      "metadata": {
        "id": "5nN3T03ws61m"
      },
      "execution_count": null,
      "outputs": []
    },
    {
      "cell_type": "code",
      "source": [
        "pmf = []\n",
        "for i in range(N+1):\n",
        "  pmf.append(prob_anniversaries (i, N, p, q))\n",
        "plt.stem(range(N+1),pmf, use_line_collection=True)\n",
        "plt.ylim([0, 1])\n",
        "plt.grid('minor')"
      ],
      "metadata": {
        "colab": {
          "base_uri": "https://localhost:8080/",
          "height": 269
        },
        "id": "OybLStAHzUPT",
        "outputId": "f652b92c-1008-4a2c-9c24-785f1985d928"
      },
      "execution_count": null,
      "outputs": [
        {
          "output_type": "display_data",
          "data": {
            "text/plain": [
              "<Figure size 432x288 with 1 Axes>"
            ],
            "image/png": "[encoded data removed]"
          },
          "metadata": {
            "needs_background": "light"
          }
        }
      ]
    },
    {
      "cell_type": "code",
      "source": [
        "sum = 0.0\n",
        "for i in range(2,N+1):\n",
        "  sum += prob_anniversaries (i, N, p, q)\n",
        "print (sum)"
      ],
      "metadata": {
        "colab": {
          "base_uri": "https://localhost:8080/"
        },
        "id": "1DOndw1DuFes",
        "outputId": "fb61728b-a58c-4402-bba0-b06b316a368c"
      },
      "execution_count": null,
      "outputs": [
        {
          "output_type": "stream",
          "name": "stdout",
          "text": [
            "0.0018276791158928082\n"
          ]
        }
      ]
    },
    {
      "cell_type": "code",
      "source": [
        "print (1.0 - prob_anniversaries (0, N, p, q) - prob_anniversaries (1, N, p, q))"
      ],
      "metadata": {
        "colab": {
          "base_uri": "https://localhost:8080/"
        },
        "id": "jqZkHE1ivTgq",
        "outputId": "62901290-d613-4ac7-b350-33d36f80c1b3"
      },
      "execution_count": null,
      "outputs": [
        {
          "output_type": "stream",
          "name": "stdout",
          "text": [
            "0.0018276791158925443\n"
          ]
        }
      ]
    }
  ]
}